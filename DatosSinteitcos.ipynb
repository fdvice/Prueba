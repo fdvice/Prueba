{
 "cells": [
  {
   "cell_type": "markdown",
   "id": "3a4c5e01-d7e3-4137-a3c5-0a4151627ba6",
   "metadata": {},
   "source": [
    "### Generación de datos sintéticos"
   ]
  },
  {
   "cell_type": "markdown",
   "id": "b7da96c2-a7dd-4a1a-845e-70f401cbac6e",
   "metadata": {},
   "source": [
    "#1.Librería Faker\n",
    "\n",
    "Faker es una biblioteca de Python que genera datos falsos. Aquí tienes un ejemplo más extenso de cómo usarla y verificar los datos generados:"
   ]
  },
  {
   "cell_type": "code",
   "execution_count": 26,
   "id": "d4f532e0-fb5c-4c73-848d-8232ac8cdd37",
   "metadata": {},
   "outputs": [
    {
     "name": "stdout",
     "output_type": "stream",
     "text": [
      "Requirement already satisfied: faker in c:\\users\\pipee\\appdata\\local\\programs\\python\\python311\\lib\\site-packages (25.8.0)\n",
      "Requirement already satisfied: python-dateutil>=2.4 in c:\\users\\pipee\\appdata\\local\\programs\\python\\python311\\lib\\site-packages (from faker) (2.9.0.post0)\n",
      "Requirement already satisfied: six>=1.5 in c:\\users\\pipee\\appdata\\local\\programs\\python\\python311\\lib\\site-packages (from python-dateutil>=2.4->faker) (1.16.0)\n"
     ]
    }
   ],
   "source": [
    "!pip install faker"
   ]
  },
  {
   "cell_type": "code",
   "execution_count": 27,
   "id": "8a4b664f-93a0-4462-85e3-892db0ec7921",
   "metadata": {},
   "outputs": [
    {
     "ename": "ModuleNotFoundError",
     "evalue": "No module named 'faker'",
     "output_type": "error",
     "traceback": [
      "\u001b[1;31m---------------------------------------------------------------------------\u001b[0m",
      "\u001b[1;31mModuleNotFoundError\u001b[0m                       Traceback (most recent call last)",
      "Cell \u001b[1;32mIn[27], line 1\u001b[0m\n\u001b[1;32m----> 1\u001b[0m \u001b[38;5;28;01mfrom\u001b[39;00m \u001b[38;5;21;01mfaker\u001b[39;00m \u001b[38;5;28;01mimport\u001b[39;00m Faker\n\u001b[0;32m      2\u001b[0m \u001b[38;5;28;01mimport\u001b[39;00m \u001b[38;5;21;01mre\u001b[39;00m\n\u001b[0;32m      4\u001b[0m fake \u001b[38;5;241m=\u001b[39m Faker()\n",
      "\u001b[1;31mModuleNotFoundError\u001b[0m: No module named 'faker'"
     ]
    }
   ],
   "source": [
    "from faker import Faker\n",
    "import re\n",
    "\n",
    "fake = Faker()\n",
    "\n",
    "# Generar y mostrar 1000 nombres, direcciones y correos electrónicos falsos\n",
    "for _ in range(1000):\n",
    "    name = fake.name()\n",
    "    address = fake.address()\n",
    "    email = fake.email()\n",
    "\n",
    "    # Verificar que el nombre no contiene números\n",
    "    assert not re.search(r'\\d', name), f\"El nombre {name} contiene números.\"\n",
    "\n",
    "    # Verificar que la dirección contiene una línea de calle, ciudad, estado y código postal\n",
    "    assert len(address.split('\\n')) == 2, f\"La dirección {address} no está en el formato correcto.\"\n",
    "\n",
    "    # Verificar que el correo electrónico contiene un @\n",
    "    assert \"@\" in email, f\"El correo electrónico {email} no contiene un @.\""
   ]
  },
  {
   "cell_type": "code",
   "execution_count": 36,
   "id": "eb25a927-9829-4829-aadb-eb814dc281f3",
   "metadata": {},
   "outputs": [
    {
     "ename": "SyntaxError",
     "evalue": "invalid character '¡' (U+00A1) (1315415827.py, line 1)",
     "output_type": "error",
     "traceback": [
      "\u001b[1;36m  Cell \u001b[1;32mIn[36], line 1\u001b[1;36m\u001b[0m\n\u001b[1;33m    ¡Por supuesto! Aquí tienes ejemplos más extensos de código en Python para probar algunas de las bibliotecas más populares de generación de datos sintéticos y verificar que los datos generados se comportan correctamente.\u001b[0m\n\u001b[1;37m    ^\u001b[0m\n\u001b[1;31mSyntaxError\u001b[0m\u001b[1;31m:\u001b[0m invalid character '¡' (U+00A1)\n"
     ]
    }
   ],
   "source": [
    "¡Por supuesto! Aquí tienes ejemplos más extensos de código en Python para probar algunas de las bibliotecas más populares de generación de datos sintéticos y verificar que los datos generados se comportan correctamente.\n",
    "\n",
    "1. Faker\n",
    "\n",
    "Faker es una biblioteca de Python que genera datos falsos. Aquí tienes un ejemplo más extenso de cómo usarla y verificar los datos generados:\n",
    "\n",
    "Python\n",
    "\n",
    "from faker import Faker\n",
    "import re\n",
    "\n",
    "fake = Faker()\n",
    "\n",
    "# Generar y mostrar 10000 nombres, direcciones y correos electrónicos falsos\n",
    "for _ in range(10000):\n",
    "    name = fake.name()\n",
    "    address = fake.address()\n",
    "    email = fake.email()\n",
    "\n",
    "    # Verificar que el nombre no contiene números\n",
    "    assert not re.search(r'\\d', name), f\"El nombre {name} contiene números.\"\n",
    "\n",
    "    # Verificar que la dirección contiene una línea de calle, ciudad, estado y código postal\n",
    "    assert len(address.split('\\n')) == 2, f\"La dirección {address} no está en el formato correcto.\"\n",
    "\n",
    "    # Verificar que el correo electrónico contiene un @\n",
    "    assert \"@\" in email, f\"El correo electrónico {email} no contiene un @.\""
   ]
  },
  {
   "cell_type": "code",
   "execution_count": 40,
   "id": "1fcaef05-aaca-4027-b9a2-e576bdf976b3",
   "metadata": {},
   "outputs": [
    {
     "ename": "ModuleNotFoundError",
     "evalue": "No module named 'faker'",
     "output_type": "error",
     "traceback": [
      "\u001b[1;31m---------------------------------------------------------------------------\u001b[0m",
      "\u001b[1;31mModuleNotFoundError\u001b[0m                       Traceback (most recent call last)",
      "Cell \u001b[1;32mIn[40], line 1\u001b[0m\n\u001b[1;32m----> 1\u001b[0m \u001b[38;5;28;01mfrom\u001b[39;00m \u001b[38;5;21;01mfaker\u001b[39;00m \u001b[38;5;28;01mimport\u001b[39;00m Faker\n\u001b[0;32m      2\u001b[0m \u001b[38;5;28;01mimport\u001b[39;00m \u001b[38;5;21;01mmatplotlib\u001b[39;00m\u001b[38;5;21;01m.\u001b[39;00m\u001b[38;5;21;01mpyplot\u001b[39;00m \u001b[38;5;28;01mas\u001b[39;00m \u001b[38;5;21;01mplt\u001b[39;00m\n\u001b[0;32m      4\u001b[0m fake \u001b[38;5;241m=\u001b[39m Faker()\n",
      "\u001b[1;31mModuleNotFoundError\u001b[0m: No module named 'faker'"
     ]
    }
   ],
   "source": [
    "from faker import Faker\n",
    "import matplotlib.pyplot as plt\n",
    "\n",
    "fake = Faker()\n",
    "\n",
    "# Generar 10000 nombres falsos\n",
    "names = [fake.name() for _ in range(10000)]\n",
    "\n",
    "# Obtener la primera letra de cada nombre\n",
    "first_letters = [name[0] for name in names]\n",
    "\n",
    "# Crear un histograma de las primeras letras\n",
    "plt.hist(first_letters, bins=26)\n",
    "plt.show()"
   ]
  },
  {
   "cell_type": "code",
   "execution_count": 43,
   "id": "bcc5ea8c-621b-4256-bb85-5740a3299495",
   "metadata": {},
   "outputs": [
    {
     "ename": "ModuleNotFoundError",
     "evalue": "No module named 'faker'",
     "output_type": "error",
     "traceback": [
      "\u001b[1;31m---------------------------------------------------------------------------\u001b[0m",
      "\u001b[1;31mModuleNotFoundError\u001b[0m                       Traceback (most recent call last)",
      "Cell \u001b[1;32mIn[43], line 1\u001b[0m\n\u001b[1;32m----> 1\u001b[0m \u001b[38;5;28;01mfrom\u001b[39;00m \u001b[38;5;21;01mfaker\u001b[39;00m \u001b[38;5;28;01mimport\u001b[39;00m Faker\n\u001b[0;32m      2\u001b[0m \u001b[38;5;28;01mimport\u001b[39;00m \u001b[38;5;21;01mmatplotlib\u001b[39;00m\u001b[38;5;21;01m.\u001b[39;00m\u001b[38;5;21;01mpyplot\u001b[39;00m \u001b[38;5;28;01mas\u001b[39;00m \u001b[38;5;21;01mplt\u001b[39;00m\n\u001b[0;32m      3\u001b[0m \u001b[38;5;28;01mfrom\u001b[39;00m \u001b[38;5;21;01mcollections\u001b[39;00m \u001b[38;5;28;01mimport\u001b[39;00m Counter\n",
      "\u001b[1;31mModuleNotFoundError\u001b[0m: No module named 'faker'"
     ]
    }
   ],
   "source": [
    "from faker import Faker\n",
    "import matplotlib.pyplot as plt\n",
    "from collections import Counter\n",
    "\n",
    "fake = Faker()\n",
    "\n",
    "# Generar 10000 nombres falsos\n",
    "names = [fake.name() for _ in range(10000)]\n",
    "\n",
    "# Obtener la primera letra de cada nombre\n",
    "first_letters = [name[0] for name in names]\n",
    "\n",
    "# Contar la frecuencia de cada primera letra\n",
    "letter_counts = Counter(first_letters)\n",
    "\n",
    "# Crear un gráfico de barras de las frecuencias de las primeras letras\n",
    "plt.bar(letter_counts.keys(), letter_counts.values())\n",
    "plt.title('Frecuencia de las primeras letras de los nombres generados')\n",
    "plt.xlabel('Primera letra')\n",
    "plt.ylabel('Frecuencia')\n",
    "plt.show()"
   ]
  },
  {
   "cell_type": "markdown",
   "id": "31de46be-0e52-4cfe-910d-4588f77126e1",
   "metadata": {},
   "source": [
    "###2.Numpy\n",
    "\n",
    "Numpy es una biblioteca que también puede ser utilizada para generar datos sintéticos numéricos:\r\n",
    "\r\n"
   ]
  },
  {
   "cell_type": "code",
   "execution_count": 29,
   "id": "2a7d5b90-ff79-4aab-98da-c22bfd4823b8",
   "metadata": {},
   "outputs": [],
   "source": [
    "import numpy as np\n",
    "\n",
    "# Generar y mostrar 100 arrays de 1000 números aleatorios entre 0 y 50\n",
    "for _ in range(100):\n",
    "    random_numbers = np.random.randint(0, 50, 1000)\n",
    "\n",
    "    # Verificar que todos los números están en el rango correcto\n",
    "    assert all(0 <= num < 50 for num in random_numbers), \"Algunos números no están en el rango correcto.\"\n"
   ]
  },
  {
   "cell_type": "code",
   "execution_count": 37,
   "id": "7c3a9d3a-4ce9-45ef-b8e1-8d51d5e02c36",
   "metadata": {},
   "outputs": [],
   "source": [
    "import numpy as np\n",
    "\n",
    "# Generar y mostrar 1000 arrays de 10000 números aleatorios entre 0 y 50\n",
    "for _ in range(1000):\n",
    "    random_numbers = np.random.randint(0, 50, 10000)\n",
    "\n",
    "    # Verificar que todos los números están en el rango correcto\n",
    "    assert all(0 <= num < 50 for num in random_numbers), \"Algunos números no están en el rango correcto.\"\n"
   ]
  },
  {
   "cell_type": "code",
   "execution_count": 41,
   "id": "9bd9a6ee-8c15-4d2a-befe-081a4181805b",
   "metadata": {},
   "outputs": [
    {
     "name": "stdout",
     "output_type": "stream",
     "text": [
      "Media: 24.4302\n",
      "Desviación estándar: 14.553849248910062\n"
     ]
    }
   ],
   "source": [
    "import numpy as np\n",
    "\n",
    "# Generar 10000 números aleatorios entre 0 y 50\n",
    "numbers = np.random.randint(0, 50, 10000)\n",
    "\n",
    "# Calcular la media y la desviación estándar\n",
    "mean = np.mean(numbers)\n",
    "std_dev = np.std(numbers)\n",
    "\n",
    "print(f\"Media: {mean}\")\n",
    "print(f\"Desviación estándar: {std_dev}\")\n"
   ]
  },
  {
   "cell_type": "code",
   "execution_count": 44,
   "id": "ca4bdcbe-8a40-4f48-9661-9071a9c98d0f",
   "metadata": {},
   "outputs": [
    {
     "data": {
      "image/png": "[encoded data removed]",
      "text/plain": [
       "<Figure size 640x480 with 1 Axes>"
      ]
     },
     "metadata": {},
     "output_type": "display_data"
    }
   ],
   "source": [
    "import numpy as np\n",
    "import seaborn as sns\n",
    "\n",
    "# Generar 10000 números aleatorios entre 0 y 50\n",
    "numbers = np.random.randint(0, 50, 10000)\n",
    "\n",
    "# Crear un histograma de los números\n",
    "sns.histplot(numbers, bins=50, kde=True)\n",
    "plt.title('Distribución de los números generados')\n",
    "plt.xlabel('Número')\n",
    "plt.ylabel('Frecuencia')\n",
    "plt.show()"
   ]
  },
  {
   "cell_type": "markdown",
   "id": "1d8df4e1-6c1b-4e91-92a0-88cff2401982",
   "metadata": {},
   "source": [
    "#3. Scikit-learn\n",
    "\n",
    "Scikit-learn tiene módulos para generar conjuntos de datos sintéticos, útiles para probar algoritmos de aprendizaje automático:"
   ]
  },
  {
   "cell_type": "code",
   "execution_count": 30,
   "id": "f878a798-41b5-40d3-9a24-68a0d0d831dc",
   "metadata": {},
   "outputs": [
    {
     "name": "stdout",
     "output_type": "stream",
     "text": [
      "Precisión del modelo: 0.94\n",
      "Precisión del modelo: 0.92\n",
      "Precisión del modelo: 0.945\n",
      "Precisión del modelo: 0.895\n",
      "Precisión del modelo: 0.955\n",
      "Precisión del modelo: 0.975\n",
      "Precisión del modelo: 0.92\n",
      "Precisión del modelo: 0.905\n",
      "Precisión del modelo: 0.91\n",
      "Precisión del modelo: 0.84\n"
     ]
    }
   ],
   "source": [
    "from sklearn.datasets import make_classification\n",
    "from sklearn.model_selection import train_test_split\n",
    "from sklearn.linear_model import LogisticRegression\n",
    "from sklearn.metrics import accuracy_score\n",
    "\n",
    "# Generar y mostrar 10 conjuntos de datos de clasificación binaria\n",
    "for _ in range(10):\n",
    "    X, y = make_classification(n_samples=1000, n_features=20, n_informative=2)\n",
    "\n",
    "    # Dividir los datos en conjuntos de entrenamiento y prueba\n",
    "    X_train, X_test, y_train, y_test = train_test_split(X, y, test_size=0.2, random_state=42)\n",
    "\n",
    "    # Entrenar un modelo de regresión logística en los datos\n",
    "    model = LogisticRegression()\n",
    "    model.fit(X_train, y_train)\n",
    "\n",
    "    # Hacer predicciones en el conjunto de prueba y calcular la precisión\n",
    "    predictions = model.predict(X_test)\n",
    "    accuracy = accuracy_score(y_test, predictions)\n",
    "\n",
    "    print(f\"Precisión del modelo: {accuracy}\")\n"
   ]
  },
  {
   "cell_type": "code",
   "execution_count": 38,
   "id": "3b123381-1d4d-4033-bbea-160cc5bce476",
   "metadata": {},
   "outputs": [
    {
     "name": "stdout",
     "output_type": "stream",
     "text": [
      "Precisión del modelo: 0.8935\n",
      "Precisión del modelo: 0.868\n",
      "Precisión del modelo: 0.893\n",
      "Precisión del modelo: 0.9265\n",
      "Precisión del modelo: 0.919\n",
      "Precisión del modelo: 0.874\n",
      "Precisión del modelo: 0.903\n",
      "Precisión del modelo: 0.969\n",
      "Precisión del modelo: 0.9325\n",
      "Precisión del modelo: 0.9675\n",
      "Precisión del modelo: 0.849\n",
      "Precisión del modelo: 0.847\n",
      "Precisión del modelo: 0.9005\n",
      "Precisión del modelo: 0.8895\n",
      "Precisión del modelo: 0.8845\n",
      "Precisión del modelo: 0.883\n",
      "Precisión del modelo: 0.864\n",
      "Precisión del modelo: 0.907\n",
      "Precisión del modelo: 0.9745\n",
      "Precisión del modelo: 0.947\n",
      "Precisión del modelo: 0.8805\n",
      "Precisión del modelo: 0.9035\n",
      "Precisión del modelo: 0.9295\n",
      "Precisión del modelo: 0.819\n",
      "Precisión del modelo: 0.8745\n",
      "Precisión del modelo: 0.87\n",
      "Precisión del modelo: 0.867\n",
      "Precisión del modelo: 0.896\n",
      "Precisión del modelo: 0.9765\n",
      "Precisión del modelo: 0.9085\n",
      "Precisión del modelo: 0.82\n",
      "Precisión del modelo: 0.8595\n",
      "Precisión del modelo: 0.896\n",
      "Precisión del modelo: 0.9275\n",
      "Precisión del modelo: 0.8765\n",
      "Precisión del modelo: 0.983\n",
      "Precisión del modelo: 0.989\n",
      "Precisión del modelo: 0.9295\n",
      "Precisión del modelo: 0.896\n",
      "Precisión del modelo: 0.862\n",
      "Precisión del modelo: 0.8755\n",
      "Precisión del modelo: 0.9085\n",
      "Precisión del modelo: 0.8865\n",
      "Precisión del modelo: 0.895\n",
      "Precisión del modelo: 0.8505\n",
      "Precisión del modelo: 0.922\n",
      "Precisión del modelo: 0.862\n",
      "Precisión del modelo: 0.9615\n",
      "Precisión del modelo: 0.8905\n",
      "Precisión del modelo: 0.918\n",
      "Precisión del modelo: 0.87\n",
      "Precisión del modelo: 0.9195\n",
      "Precisión del modelo: 0.9135\n",
      "Precisión del modelo: 0.907\n",
      "Precisión del modelo: 0.9855\n",
      "Precisión del modelo: 0.9175\n",
      "Precisión del modelo: 0.899\n",
      "Precisión del modelo: 0.8675\n",
      "Precisión del modelo: 0.8495\n",
      "Precisión del modelo: 0.8945\n",
      "Precisión del modelo: 0.9\n",
      "Precisión del modelo: 0.9595\n",
      "Precisión del modelo: 0.892\n",
      "Precisión del modelo: 0.847\n",
      "Precisión del modelo: 0.8865\n",
      "Precisión del modelo: 0.8695\n",
      "Precisión del modelo: 0.8515\n",
      "Precisión del modelo: 0.9275\n",
      "Precisión del modelo: 0.854\n",
      "Precisión del modelo: 0.9005\n",
      "Precisión del modelo: 0.872\n",
      "Precisión del modelo: 0.9735\n",
      "Precisión del modelo: 0.8875\n",
      "Precisión del modelo: 0.919\n",
      "Precisión del modelo: 0.9225\n",
      "Precisión del modelo: 0.9015\n",
      "Precisión del modelo: 0.942\n",
      "Precisión del modelo: 0.9\n",
      "Precisión del modelo: 0.9285\n",
      "Precisión del modelo: 0.9065\n",
      "Precisión del modelo: 0.955\n",
      "Precisión del modelo: 0.8785\n",
      "Precisión del modelo: 0.9075\n",
      "Precisión del modelo: 0.9065\n",
      "Precisión del modelo: 0.941\n",
      "Precisión del modelo: 0.883\n",
      "Precisión del modelo: 0.897\n",
      "Precisión del modelo: 0.9685\n",
      "Precisión del modelo: 0.887\n",
      "Precisión del modelo: 0.9255\n",
      "Precisión del modelo: 0.9395\n",
      "Precisión del modelo: 0.9025\n",
      "Precisión del modelo: 0.8625\n",
      "Precisión del modelo: 0.875\n",
      "Precisión del modelo: 0.9125\n",
      "Precisión del modelo: 0.9445\n",
      "Precisión del modelo: 0.8755\n",
      "Precisión del modelo: 0.8605\n",
      "Precisión del modelo: 0.9515\n",
      "Precisión del modelo: 0.8375\n"
     ]
    }
   ],
   "source": [
    "from sklearn.datasets import make_classification\n",
    "from sklearn.model_selection import train_test_split\n",
    "from sklearn.linear_model import LogisticRegression\n",
    "from sklearn.metrics import accuracy_score\n",
    "\n",
    "# Generar y mostrar 100 conjuntos de datos de clasificación binaria\n",
    "for _ in range(100):\n",
    "    X, y = make_classification(n_samples=10000, n_features=20, n_informative=2)\n",
    "\n",
    "    # Dividir los datos en conjuntos de entrenamiento y prueba\n",
    "    X_train, X_test, y_train, y_test = train_test_split(X, y, test_size=0.2, random_state=42)\n",
    "\n",
    "    # Entrenar un modelo de regresión logística en los datos\n",
    "    model = LogisticRegression()\n",
    "    model.fit(X_train, y_train)\n",
    "\n",
    "    # Hacer predicciones en el conjunto de prueba y calcular la precisión\n",
    "    predictions = model.predict(X_test)\n",
    "    accuracy = accuracy_score(y_test, predictions)\n",
    "\n",
    "    print(f\"Precisión del modelo: {accuracy}\")\n"
   ]
  },
  {
   "cell_type": "code",
   "execution_count": 42,
   "id": "7c11c3a3-eb46-4e35-82a4-806fda464a09",
   "metadata": {},
   "outputs": [
    {
     "name": "stdout",
     "output_type": "stream",
     "text": [
      "Precisión del modelo: 0.9475\n"
     ]
    }
   ],
   "source": [
    "from sklearn.datasets import make_classification\n",
    "from sklearn.model_selection import train_test_split\n",
    "from sklearn.linear_model import LogisticRegression\n",
    "from sklearn.metrics import accuracy_score\n",
    "\n",
    "# Generar un conjunto de datos de clasificación\n",
    "X, y = make_classification(n_samples=10000, n_features=20, n_informative=2)\n",
    "\n",
    "# Dividir los datos en conjuntos de entrenamiento y prueba\n",
    "X_train, X_test, y_train, y_test = train_test_split(X, y, test_size=0.2, random_state=42)\n",
    "\n",
    "# Entrenar un modelo de regresión logística en los datos\n",
    "model = LogisticRegression()\n",
    "model.fit(X_train, y_train)\n",
    "\n",
    "# Hacer predicciones en el conjunto de prueba y calcular la precisión\n",
    "predictions = model.predict(X_test)\n",
    "accuracy = accuracy_score(y_test, predictions)\n",
    "\n",
    "print(f\"Precisión del modelo: {accuracy}\")\n"
   ]
  },
  {
   "cell_type": "code",
   "execution_count": 45,
   "id": "46ac04a0-7906-480d-a5ae-5ed86e3df76f",
   "metadata": {},
   "outputs": [
    {
     "data": {
      "image/png": "[encoded data removed]",
      "text/plain": [
       "<Figure size 640x480 with 2 Axes>"
      ]
     },
     "metadata": {},
     "output_type": "display_data"
    }
   ],
   "source": [
    "from sklearn.datasets import make_classification\n",
    "from sklearn.model_selection import train_test_split\n",
    "from sklearn.linear_model import LogisticRegression\n",
    "from sklearn.metrics import accuracy_score, confusion_matrix\n",
    "import seaborn as sns\n",
    "\n",
    "# Generar un conjunto de datos de clasificación\n",
    "X, y = make_classification(n_samples=10000, n_features=20, n_informative=2)\n",
    "\n",
    "# Dividir los datos en conjuntos de entrenamiento y prueba\n",
    "X_train, X_test, y_train, y_test = train_test_split(X, y, test_size=0.2, random_state=42)\n",
    "\n",
    "# Entrenar un modelo de regresión logística en los datos\n",
    "model = LogisticRegression()\n",
    "model.fit(X_train, y_train)\n",
    "\n",
    "# Hacer predicciones en el conjunto de prueba y calcular la precisión\n",
    "predictions = model.predict(X_test)\n",
    "accuracy = accuracy_score(y_test, predictions)\n",
    "\n",
    "# Crear una matriz de confusión\n",
    "conf_mat = confusion_matrix(y_test, predictions)\n",
    "\n",
    "# Dibujar la matriz de confusión\n",
    "sns.heatmap(conf_mat, annot=True, fmt='d')\n",
    "plt.title('Matriz de confusión para las predicciones del modelo')\n",
    "plt.xlabel('Predicción')\n",
    "plt.ylabel('Verdadero')\n",
    "plt.show()\n"
   ]
  },
  {
   "cell_type": "markdown",
   "id": "a5d65e68-5ef0-470c-9262-d2443924f086",
   "metadata": {},
   "source": [
    "###Prueba Linkedin"
   ]
  },
  {
   "cell_type": "code",
   "execution_count": 31,
   "id": "e3f0def4-21f1-4a85-b785-c999a45e2324",
   "metadata": {},
   "outputs": [],
   "source": [
    "import numpy as np\n",
    "import matplotlib.colors\n",
    "import matplotlib.pyplot as plt\n",
    "from mpl_toolkits.mplot3d import Axes3D\n",
    "import sklearn.datasets as dt\n",
    "from sklearn.neighbors import KernelDensity\n",
    "from sklearn.model_selection import GridSearchCV"
   ]
  },
  {
   "cell_type": "code",
   "execution_count": 35,
   "id": "1a7f282a-17b2-4809-b744-b52b5b632edb",
   "metadata": {},
   "outputs": [
    {
     "name": "stderr",
     "output_type": "stream",
     "text": [
      "C:\\Users\\pipee\\AppData\\Local\\Temp\\ipykernel_25744\\2121986602.py:4: MatplotlibDeprecationWarning: The get_cmap function was deprecated in Matplotlib 3.7 and will be removed two minor releases later. Use ``matplotlib.colormaps[name]`` or ``matplotlib.colormaps.get_cmap(obj)`` instead.\n",
      "  color_map = plt.cm.get_cmap('RdYlBu')\n"
     ]
    },
    {
     "data": {
      "image/png": "[encoded data removed]",
      "text/plain": [
       "<Figure size 1200x700 with 6 Axes>"
      ]
     },
     "metadata": {},
     "output_type": "display_data"
    }
   ],
   "source": [
    "seed = 50\n",
    "rand_state = 50\n",
    "\n",
    "color_map = plt.cm.get_cmap('RdYlBu')\n",
    "color_map_discrete = matplotlib.colors.LinearSegmentedColormap.from_list(\"\", [\"blue\",\"yellow\",\"green\",\"black\"])\n",
    "\n",
    "#4.    Uso del módulo random de numpy para generar números aleatorios muestreados a partir de una distribución conocida\n",
    "rand = np.random.RandomState(seed) \n",
    "\n",
    "#5.    Vamos a definir una lista de distribución, tales como uniform, normal, exponential, etc, una lista de parámetros, y una lista de colores para que podamos discernir visualmente entre estos:\n",
    "dist_list = ['uniform','normal','exponential','lognormal','chisquare','beta']\n",
    "param_list = ['-1,1','0,1','1','0,1','2','0.5,0.9']\n",
    "colors_list = ['navy','red','blue','black','yellow','green']\n",
    "\n",
    "#6.Se empaquetarán en subtramas de un Figure para su visualización y generaremos datos sintéticos basados en estas distribuciones, parámetros y les asignaremos colores adecuados a través de la función eval.\n",
    "x = eval('rand.'+dist+'('+param+',5000)')\n",
    "\n",
    "#7.    Usando dist_list, param_listy color_list para generar las llamadas:\n",
    "fig,ax = plt.subplots(nrows=2, ncols=3,figsize=(12,7))\n",
    "plt_ind_list = np.arange(6)+231\n",
    "for dist, plt_ind, param, colors in zip(dist_list, plt_ind_list, param_list, colors_list):\n",
    "    x = eval('rand.'+dist+'('+param+',5000)')\n",
    "    \n",
    "#8.    Imprimir los resultados.\n",
    "plt.subplot(plt_ind)\n",
    "plt.hist(x,bins=50,color=colors)\n",
    "plt.title(dist)\n",
    "fig.subplots_adjust(hspace=0.4,wspace=.3)\n",
    "plt.suptitle('Sampling from Various Distributions',fontsize=20)\n",
    "plt.show()"
   ]
  },
  {
   "cell_type": "markdown",
   "id": "54172989-512b-41cd-8537-528d1153350c",
   "metadata": {},
   "source": [
    "#Mejores librerias de generación de datos sintéticos"
   ]
  },
  {
   "cell_type": "markdown",
   "id": "fe07ae68-43f1-43eb-b83e-671cac42a6a8",
   "metadata": {},
   "source": [
    "ydata_sinthetic"
   ]
  },
  {
   "cell_type": "code",
   "execution_count": 47,
   "id": "07ab5e0b-79f9-4683-a1c8-cb91a742afb0",
   "metadata": {},
   "outputs": [
    {
     "ename": "ModuleNotFoundError",
     "evalue": "No module named 'ydata_synthetic'",
     "output_type": "error",
     "traceback": [
      "\u001b[1;31m---------------------------------------------------------------------------\u001b[0m",
      "\u001b[1;31mModuleNotFoundError\u001b[0m                       Traceback (most recent call last)",
      "Cell \u001b[1;32mIn[47], line 1\u001b[0m\n\u001b[1;32m----> 1\u001b[0m \u001b[38;5;28;01mfrom\u001b[39;00m \u001b[38;5;21;01mydata_synthetic\u001b[39;00m\u001b[38;5;21;01m.\u001b[39;00m\u001b[38;5;21;01msynthesizers\u001b[39;00m\u001b[38;5;21;01m.\u001b[39;00m\u001b[38;5;21;01mregular\u001b[39;00m \u001b[38;5;28;01mimport\u001b[39;00m WGAN_GP\n\u001b[0;32m      2\u001b[0m \u001b[38;5;28;01mfrom\u001b[39;00m \u001b[38;5;21;01msklearn\u001b[39;00m\u001b[38;5;21;01m.\u001b[39;00m\u001b[38;5;21;01mdatasets\u001b[39;00m \u001b[38;5;28;01mimport\u001b[39;00m make_classification\n\u001b[0;32m      3\u001b[0m \u001b[38;5;28;01mimport\u001b[39;00m \u001b[38;5;21;01mpandas\u001b[39;00m \u001b[38;5;28;01mas\u001b[39;00m \u001b[38;5;21;01mpd\u001b[39;00m\n",
      "\u001b[1;31mModuleNotFoundError\u001b[0m: No module named 'ydata_synthetic'"
     ]
    }
   ],
   "source": [
    "from ydata_synthetic.synthesizers.regular import WGAN_GP\n",
    "from sklearn.datasets import make_classification\n",
    "import pandas as pd\n",
    "import matplotlib.pyplot as plt\n",
    "\n",
    "# Generar un conjunto de datos de clasificación\n",
    "data, _ = make_classification(n_samples=1000, n_features=2, n_informative=2)\n",
    "data = pd.DataFrame(data, columns=['feature1', 'feature2'])\n",
    "\n",
    "# Crear y entrenar el sintetizador\n",
    "synth = WGAN_GP(model_parameters={'n_epochs': 1000, 'batch_size': 32})\n",
    "synth.fit(data)\n",
    "\n",
    "# Generar datos sintéticos\n",
    "synthetic_data = synth.sample(1000)\n",
    "\n",
    "# Visualizar los datos reales y los datos sintéticos\n",
    "plt.scatter(data['feature1'], data['feature2'], label='Real')\n",
    "plt.scatter(synthetic_data['feature1'], synthetic_data['feature2'], label='Synthetic')\n",
    "plt.legend()\n",
    "plt.show()\n"
   ]
  },
  {
   "cell_type": "code",
   "execution_count": 1,
   "id": "12b108ce-fae0-42b7-bf5c-7b99c47099cf",
   "metadata": {},
   "outputs": [
    {
     "name": "stdout",
     "output_type": "stream",
     "text": [
      "Collecting ydata_synthetic\n",
      "  Using cached ydata_synthetic-1.4.0-py2.py3-none-any.whl.metadata (10 kB)\n",
      "Collecting requests<2.31,>=2.28 (from ydata_synthetic)\n",
      "  Using cached requests-2.30.0-py3-none-any.whl.metadata (4.6 kB)\n",
      "Collecting pandas<3 (from ydata_synthetic)\n",
      "  Using cached pandas-2.2.2-cp311-cp311-win_amd64.whl.metadata (19 kB)\n",
      "Requirement already satisfied: numpy<2 in c:\\users\\pipee\\appdata\\local\\programs\\python\\python311\\lib\\site-packages (from ydata_synthetic) (1.26.4)\n",
      "Collecting scikit-learn<2 (from ydata_synthetic)\n",
      "  Using cached scikit_learn-1.5.0-cp311-cp311-win_amd64.whl.metadata (11 kB)\n",
      "Collecting matplotlib<4 (from ydata_synthetic)\n",
      "  Using cached matplotlib-3.9.0-cp311-cp311-win_amd64.whl.metadata (11 kB)\n",
      "Collecting tensorflow==2.15.* (from ydata_synthetic)\n",
      "  Using cached tensorflow-2.15.1-cp311-cp311-win_amd64.whl.metadata (3.4 kB)\n",
      "Requirement already satisfied: tensorflow-probability[tf] in c:\\users\\pipee\\appdata\\local\\programs\\python\\python311\\lib\\site-packages (from ydata_synthetic) (0.23.0)\n",
      "Requirement already satisfied: easydict==1.10 in c:\\users\\pipee\\appdata\\local\\programs\\python\\python311\\lib\\site-packages (from ydata_synthetic) (1.10)\n",
      "Collecting pmlb==1.0.* (from ydata_synthetic)\n",
      "  Using cached pmlb-1.0.1.post3-py3-none-any.whl.metadata (1.7 kB)\n",
      "Requirement already satisfied: tqdm<5.0 in c:\\users\\pipee\\appdata\\local\\programs\\python\\python311\\lib\\site-packages (from ydata_synthetic) (4.66.4)\n",
      "Requirement already satisfied: typeguard==4.2.* in c:\\users\\pipee\\appdata\\local\\programs\\python\\python311\\lib\\site-packages (from ydata_synthetic) (4.2.1)\n",
      "Collecting pytest==7.4.* (from ydata_synthetic)\n",
      "  Using cached pytest-7.4.4-py3-none-any.whl.metadata (7.9 kB)\n",
      "Requirement already satisfied: pyyaml>=5.3.1 in c:\\users\\pipee\\appdata\\local\\programs\\python\\python311\\lib\\site-packages (from pmlb==1.0.*->ydata_synthetic) (6.0.1)\n",
      "Requirement already satisfied: iniconfig in c:\\users\\pipee\\appdata\\local\\programs\\python\\python311\\lib\\site-packages (from pytest==7.4.*->ydata_synthetic) (2.0.0)\n",
      "Requirement already satisfied: packaging in c:\\users\\pipee\\appdata\\local\\programs\\python\\python311\\lib\\site-packages (from pytest==7.4.*->ydata_synthetic) (24.0)\n",
      "Requirement already satisfied: pluggy<2.0,>=0.12 in c:\\users\\pipee\\appdata\\local\\programs\\python\\python311\\lib\\site-packages (from pytest==7.4.*->ydata_synthetic) (1.5.0)\n",
      "Requirement already satisfied: colorama in c:\\users\\pipee\\appdata\\local\\programs\\python\\python311\\lib\\site-packages (from pytest==7.4.*->ydata_synthetic) (0.4.6)\n",
      "Collecting tensorflow-intel==2.15.1 (from tensorflow==2.15.*->ydata_synthetic)\n",
      "  Using cached tensorflow_intel-2.15.1-cp311-cp311-win_amd64.whl.metadata (4.9 kB)\n",
      "Requirement already satisfied: typing-extensions>=4.10.0 in c:\\users\\pipee\\appdata\\local\\programs\\python\\python311\\lib\\site-packages (from typeguard==4.2.*->ydata_synthetic) (4.12.2)\n",
      "Requirement already satisfied: absl-py>=1.0.0 in c:\\users\\pipee\\appdata\\local\\programs\\python\\python311\\lib\\site-packages (from tensorflow-intel==2.15.1->tensorflow==2.15.*->ydata_synthetic) (2.1.0)\n",
      "Collecting astunparse>=1.6.0 (from tensorflow-intel==2.15.1->tensorflow==2.15.*->ydata_synthetic)\n",
      "  Using cached astunparse-1.6.3-py2.py3-none-any.whl.metadata (4.4 kB)\n",
      "Requirement already satisfied: flatbuffers>=23.5.26 in c:\\users\\pipee\\appdata\\local\\programs\\python\\python311\\lib\\site-packages (from tensorflow-intel==2.15.1->tensorflow==2.15.*->ydata_synthetic) (24.3.25)\n",
      "Requirement already satisfied: gast!=0.5.0,!=0.5.1,!=0.5.2,>=0.2.1 in c:\\users\\pipee\\appdata\\local\\programs\\python\\python311\\lib\\site-packages (from tensorflow-intel==2.15.1->tensorflow==2.15.*->ydata_synthetic) (0.5.4)\n",
      "Requirement already satisfied: google-pasta>=0.1.1 in c:\\users\\pipee\\appdata\\local\\programs\\python\\python311\\lib\\site-packages (from tensorflow-intel==2.15.1->tensorflow==2.15.*->ydata_synthetic) (0.2.0)\n",
      "Requirement already satisfied: h5py>=2.9.0 in c:\\users\\pipee\\appdata\\local\\programs\\python\\python311\\lib\\site-packages (from tensorflow-intel==2.15.1->tensorflow==2.15.*->ydata_synthetic) (3.11.0)\n",
      "Requirement already satisfied: libclang>=13.0.0 in c:\\users\\pipee\\appdata\\local\\programs\\python\\python311\\lib\\site-packages (from tensorflow-intel==2.15.1->tensorflow==2.15.*->ydata_synthetic) (18.1.1)\n",
      "Requirement already satisfied: ml-dtypes~=0.3.1 in c:\\users\\pipee\\appdata\\local\\programs\\python\\python311\\lib\\site-packages (from tensorflow-intel==2.15.1->tensorflow==2.15.*->ydata_synthetic) (0.3.2)\n",
      "Requirement already satisfied: opt-einsum>=2.3.2 in c:\\users\\pipee\\appdata\\local\\programs\\python\\python311\\lib\\site-packages (from tensorflow-intel==2.15.1->tensorflow==2.15.*->ydata_synthetic) (3.3.0)\n",
      "Requirement already satisfied: protobuf!=4.21.0,!=4.21.1,!=4.21.2,!=4.21.3,!=4.21.4,!=4.21.5,<5.0.0dev,>=3.20.3 in c:\\users\\pipee\\appdata\\local\\programs\\python\\python311\\lib\\site-packages (from tensorflow-intel==2.15.1->tensorflow==2.15.*->ydata_synthetic) (4.25.3)\n",
      "Requirement already satisfied: setuptools in c:\\users\\pipee\\appdata\\local\\programs\\python\\python311\\lib\\site-packages (from tensorflow-intel==2.15.1->tensorflow==2.15.*->ydata_synthetic) (65.5.0)\n",
      "Requirement already satisfied: six>=1.12.0 in c:\\users\\pipee\\appdata\\local\\programs\\python\\python311\\lib\\site-packages (from tensorflow-intel==2.15.1->tensorflow==2.15.*->ydata_synthetic) (1.16.0)\n",
      "Requirement already satisfied: termcolor>=1.1.0 in c:\\users\\pipee\\appdata\\local\\programs\\python\\python311\\lib\\site-packages (from tensorflow-intel==2.15.1->tensorflow==2.15.*->ydata_synthetic) (2.4.0)\n",
      "Requirement already satisfied: wrapt<1.15,>=1.11.0 in c:\\users\\pipee\\appdata\\local\\programs\\python\\python311\\lib\\site-packages (from tensorflow-intel==2.15.1->tensorflow==2.15.*->ydata_synthetic) (1.14.1)\n",
      "Requirement already satisfied: tensorflow-io-gcs-filesystem>=0.23.1 in c:\\users\\pipee\\appdata\\local\\programs\\python\\python311\\lib\\site-packages (from tensorflow-intel==2.15.1->tensorflow==2.15.*->ydata_synthetic) (0.31.0)\n",
      "Requirement already satisfied: grpcio<2.0,>=1.24.3 in c:\\users\\pipee\\appdata\\local\\programs\\python\\python311\\lib\\site-packages (from tensorflow-intel==2.15.1->tensorflow==2.15.*->ydata_synthetic) (1.64.1)\n",
      "Collecting tensorboard<2.16,>=2.15 (from tensorflow-intel==2.15.1->tensorflow==2.15.*->ydata_synthetic)\n",
      "  Using cached tensorboard-2.15.2-py3-none-any.whl.metadata (1.7 kB)\n",
      "Requirement already satisfied: tensorflow-estimator<2.16,>=2.15.0 in c:\\users\\pipee\\appdata\\local\\programs\\python\\python311\\lib\\site-packages (from tensorflow-intel==2.15.1->tensorflow==2.15.*->ydata_synthetic) (2.15.0)\n",
      "Requirement already satisfied: keras<2.16,>=2.15.0 in c:\\users\\pipee\\appdata\\local\\programs\\python\\python311\\lib\\site-packages (from tensorflow-intel==2.15.1->tensorflow==2.15.*->ydata_synthetic) (2.15.0)\n",
      "Requirement already satisfied: contourpy>=1.0.1 in c:\\users\\pipee\\appdata\\local\\programs\\python\\python311\\lib\\site-packages (from matplotlib<4->ydata_synthetic) (1.2.1)\n",
      "Requirement already satisfied: cycler>=0.10 in c:\\users\\pipee\\appdata\\local\\programs\\python\\python311\\lib\\site-packages (from matplotlib<4->ydata_synthetic) (0.12.1)\n",
      "Requirement already satisfied: fonttools>=4.22.0 in c:\\users\\pipee\\appdata\\local\\programs\\python\\python311\\lib\\site-packages (from matplotlib<4->ydata_synthetic) (4.53.0)\n",
      "Requirement already satisfied: kiwisolver>=1.3.1 in c:\\users\\pipee\\appdata\\local\\programs\\python\\python311\\lib\\site-packages (from matplotlib<4->ydata_synthetic) (1.4.5)\n",
      "Requirement already satisfied: pillow>=8 in c:\\users\\pipee\\appdata\\local\\programs\\python\\python311\\lib\\site-packages (from matplotlib<4->ydata_synthetic) (10.3.0)\n",
      "Requirement already satisfied: pyparsing>=2.3.1 in c:\\users\\pipee\\appdata\\local\\programs\\python\\python311\\lib\\site-packages (from matplotlib<4->ydata_synthetic) (3.1.2)\n",
      "Requirement already satisfied: python-dateutil>=2.7 in c:\\users\\pipee\\appdata\\local\\programs\\python\\python311\\lib\\site-packages (from matplotlib<4->ydata_synthetic) (2.9.0.post0)\n",
      "Requirement already satisfied: pytz>=2020.1 in c:\\users\\pipee\\appdata\\local\\programs\\python\\python311\\lib\\site-packages (from pandas<3->ydata_synthetic) (2024.1)\n",
      "Requirement already satisfied: tzdata>=2022.7 in c:\\users\\pipee\\appdata\\local\\programs\\python\\python311\\lib\\site-packages (from pandas<3->ydata_synthetic) (2024.1)\n",
      "Requirement already satisfied: charset-normalizer<4,>=2 in c:\\users\\pipee\\appdata\\local\\programs\\python\\python311\\lib\\site-packages (from requests<2.31,>=2.28->ydata_synthetic) (3.3.2)\n",
      "Requirement already satisfied: idna<4,>=2.5 in c:\\users\\pipee\\appdata\\local\\programs\\python\\python311\\lib\\site-packages (from requests<2.31,>=2.28->ydata_synthetic) (3.7)\n",
      "Requirement already satisfied: urllib3<3,>=1.21.1 in c:\\users\\pipee\\appdata\\local\\programs\\python\\python311\\lib\\site-packages (from requests<2.31,>=2.28->ydata_synthetic) (2.2.1)\n",
      "Requirement already satisfied: certifi>=2017.4.17 in c:\\users\\pipee\\appdata\\local\\programs\\python\\python311\\lib\\site-packages (from requests<2.31,>=2.28->ydata_synthetic) (2024.6.2)\n",
      "Requirement already satisfied: scipy>=1.6.0 in c:\\users\\pipee\\appdata\\local\\programs\\python\\python311\\lib\\site-packages (from scikit-learn<2->ydata_synthetic) (1.13.1)\n",
      "Requirement already satisfied: joblib>=1.2.0 in c:\\users\\pipee\\appdata\\local\\programs\\python\\python311\\lib\\site-packages (from scikit-learn<2->ydata_synthetic) (1.4.2)\n",
      "Requirement already satisfied: threadpoolctl>=3.1.0 in c:\\users\\pipee\\appdata\\local\\programs\\python\\python311\\lib\\site-packages (from scikit-learn<2->ydata_synthetic) (3.5.0)\n",
      "Requirement already satisfied: decorator in c:\\users\\pipee\\appdata\\local\\programs\\python\\python311\\lib\\site-packages (from tensorflow-probability[tf]->ydata_synthetic) (5.1.1)\n",
      "Requirement already satisfied: cloudpickle>=1.3 in c:\\users\\pipee\\appdata\\local\\programs\\python\\python311\\lib\\site-packages (from tensorflow-probability[tf]->ydata_synthetic) (3.0.0)\n",
      "Requirement already satisfied: dm-tree in c:\\users\\pipee\\appdata\\local\\programs\\python\\python311\\lib\\site-packages (from tensorflow-probability[tf]->ydata_synthetic) (0.1.8)\n",
      "Requirement already satisfied: wheel<1.0,>=0.23.0 in c:\\users\\pipee\\appdata\\local\\programs\\python\\python311\\lib\\site-packages (from astunparse>=1.6.0->tensorflow-intel==2.15.1->tensorflow==2.15.*->ydata_synthetic) (0.43.0)\n",
      "Collecting google-auth<3,>=1.6.3 (from tensorboard<2.16,>=2.15->tensorflow-intel==2.15.1->tensorflow==2.15.*->ydata_synthetic)\n",
      "  Using cached google_auth-2.30.0-py2.py3-none-any.whl.metadata (4.7 kB)\n",
      "Collecting google-auth-oauthlib<2,>=0.5 (from tensorboard<2.16,>=2.15->tensorflow-intel==2.15.1->tensorflow==2.15.*->ydata_synthetic)\n",
      "  Using cached google_auth_oauthlib-1.2.0-py2.py3-none-any.whl.metadata (2.7 kB)\n",
      "Requirement already satisfied: markdown>=2.6.8 in c:\\users\\pipee\\appdata\\local\\programs\\python\\python311\\lib\\site-packages (from tensorboard<2.16,>=2.15->tensorflow-intel==2.15.1->tensorflow==2.15.*->ydata_synthetic) (3.6)\n",
      "Requirement already satisfied: tensorboard-data-server<0.8.0,>=0.7.0 in c:\\users\\pipee\\appdata\\local\\programs\\python\\python311\\lib\\site-packages (from tensorboard<2.16,>=2.15->tensorflow-intel==2.15.1->tensorflow==2.15.*->ydata_synthetic) (0.7.2)\n",
      "Requirement already satisfied: werkzeug>=1.0.1 in c:\\users\\pipee\\appdata\\local\\programs\\python\\python311\\lib\\site-packages (from tensorboard<2.16,>=2.15->tensorflow-intel==2.15.1->tensorflow==2.15.*->ydata_synthetic) (3.0.3)\n",
      "Requirement already satisfied: cachetools<6.0,>=2.0.0 in c:\\users\\pipee\\appdata\\local\\programs\\python\\python311\\lib\\site-packages (from google-auth<3,>=1.6.3->tensorboard<2.16,>=2.15->tensorflow-intel==2.15.1->tensorflow==2.15.*->ydata_synthetic) (5.3.3)\n",
      "Collecting pyasn1-modules>=0.2.1 (from google-auth<3,>=1.6.3->tensorboard<2.16,>=2.15->tensorflow-intel==2.15.1->tensorflow==2.15.*->ydata_synthetic)\n",
      "  Using cached pyasn1_modules-0.4.0-py3-none-any.whl.metadata (3.4 kB)\n",
      "Collecting rsa<5,>=3.1.4 (from google-auth<3,>=1.6.3->tensorboard<2.16,>=2.15->tensorflow-intel==2.15.1->tensorflow==2.15.*->ydata_synthetic)\n",
      "  Using cached rsa-4.9-py3-none-any.whl.metadata (4.2 kB)\n",
      "Collecting requests-oauthlib>=0.7.0 (from google-auth-oauthlib<2,>=0.5->tensorboard<2.16,>=2.15->tensorflow-intel==2.15.1->tensorflow==2.15.*->ydata_synthetic)\n",
      "  Using cached requests_oauthlib-2.0.0-py2.py3-none-any.whl.metadata (11 kB)\n",
      "Requirement already satisfied: MarkupSafe>=2.1.1 in c:\\users\\pipee\\appdata\\local\\programs\\python\\python311\\lib\\site-packages (from werkzeug>=1.0.1->tensorboard<2.16,>=2.15->tensorflow-intel==2.15.1->tensorflow==2.15.*->ydata_synthetic) (2.1.5)\n",
      "Requirement already satisfied: pyasn1<0.7.0,>=0.4.6 in c:\\users\\pipee\\appdata\\local\\programs\\python\\python311\\lib\\site-packages (from pyasn1-modules>=0.2.1->google-auth<3,>=1.6.3->tensorboard<2.16,>=2.15->tensorflow-intel==2.15.1->tensorflow==2.15.*->ydata_synthetic) (0.6.0)\n",
      "Requirement already satisfied: oauthlib>=3.0.0 in c:\\users\\pipee\\appdata\\local\\programs\\python\\python311\\lib\\site-packages (from requests-oauthlib>=0.7.0->google-auth-oauthlib<2,>=0.5->tensorboard<2.16,>=2.15->tensorflow-intel==2.15.1->tensorflow==2.15.*->ydata_synthetic) (3.2.2)\n",
      "Using cached ydata_synthetic-1.4.0-py2.py3-none-any.whl (87 kB)\n",
      "Using cached pmlb-1.0.1.post3-py3-none-any.whl (19 kB)\n",
      "Using cached pytest-7.4.4-py3-none-any.whl (325 kB)\n",
      "Using cached tensorflow-2.15.1-cp311-cp311-win_amd64.whl (2.1 kB)\n",
      "Using cached tensorflow_intel-2.15.1-cp311-cp311-win_amd64.whl (300.9 MB)\n",
      "Using cached matplotlib-3.9.0-cp311-cp311-win_amd64.whl (8.0 MB)\n",
      "Using cached pandas-2.2.2-cp311-cp311-win_amd64.whl (11.6 MB)\n",
      "Using cached requests-2.30.0-py3-none-any.whl (62 kB)\n",
      "Using cached scikit_learn-1.5.0-cp311-cp311-win_amd64.whl (11.0 MB)\n",
      "Using cached astunparse-1.6.3-py2.py3-none-any.whl (12 kB)\n",
      "Using cached tensorboard-2.15.2-py3-none-any.whl (5.5 MB)\n",
      "Using cached google_auth-2.30.0-py2.py3-none-any.whl (193 kB)\n",
      "Using cached google_auth_oauthlib-1.2.0-py2.py3-none-any.whl (24 kB)\n",
      "Using cached pyasn1_modules-0.4.0-py3-none-any.whl (181 kB)\n",
      "Using cached requests_oauthlib-2.0.0-py2.py3-none-any.whl (24 kB)\n",
      "Using cached rsa-4.9-py3-none-any.whl (34 kB)\n",
      "Installing collected packages: rsa, requests, pytest, pyasn1-modules, astunparse, scikit-learn, requests-oauthlib, pandas, matplotlib, google-auth, pmlb, google-auth-oauthlib, tensorboard, tensorflow-intel, tensorflow, ydata_synthetic\n",
      "Successfully installed astunparse-1.6.3 google-auth-2.30.0 google-auth-oauthlib-1.2.0 matplotlib-3.9.0 pandas-2.2.2 pmlb-1.0.1.post3 pyasn1-modules-0.4.0 pytest-7.4.4 requests-2.30.0 requests-oauthlib-2.0.0 rsa-4.9 scikit-learn-1.5.0 tensorboard-2.15.2 tensorflow-2.15.1 tensorflow-intel-2.15.1 ydata_synthetic-1.4.0\n"
     ]
    },
    {
     "name": "stderr",
     "output_type": "stream",
     "text": [
      "WARNING: tensorflow-probability 0.23.0 does not provide the extra 'tf'\n"
     ]
    }
   ],
   "source": [
    "!pip install ydata_synthetic"
   ]
  },
  {
   "cell_type": "code",
   "execution_count": null,
   "id": "1b7d3387-b43c-4f70-8722-d3bd9bc0d895",
   "metadata": {},
   "outputs": [],
   "source": [
    "from sklearn.decomposition import TruncatedSVD\n",
    "import numpy as np\n",
    "import matplotlib.pyplot as plt\n",
    "\n",
    "# Generar un conjunto de datos de 1000 puntos en 3 dimensiones\n",
    "data = np.random.rand(1000, 3)\n",
    "\n",
    "# Crear y ajustar el transformador SVD\n",
    "svd = TruncatedSVD(n_components=2)\n",
    "svd.fit(data)\n",
    "\n",
    "# Transformar los datos a 2 dimensiones\n",
    "data_transformed = svd.transform(data)\n",
    "\n",
    "# Reconstruir los datos a 3 dimensiones\n",
    "data_reconstructed = svd.inverse_transform(data_transformed)\n",
    "\n",
    "# Visualizar los datos originales y los datos reconstruidos\n",
    "fig = plt.figure(figsize=(12, 6))\n",
    "\n",
    "ax1 = fig.add_subplot(121, projection='3d')\n",
    "ax1.scatter(data[:, 0], data[:, 1], data[:, 2])\n",
    "ax1.set_title('Datos originales')\n",
    "\n",
    "ax2 = fig.add_subplot(122, projection='3d')\n",
    "ax2.scatter(data_reconstructed[:, 0], data_reconstructed[:, 1], data_reconstructed[:, 2])\n",
    "ax2.set_title('Datos reconstruidos')\n",
    "\n",
    "plt.show()"
   ]
  },
  {
   "cell_type": "code",
   "execution_count": 2,
   "id": "0c29b09b-ce8a-4e1b-942e-8362a569fab9",
   "metadata": {},
   "outputs": [
    {
     "ename": "ModuleNotFoundError",
     "evalue": "No module named 'sdv'",
     "output_type": "error",
     "traceback": [
      "\u001b[1;31m---------------------------------------------------------------------------\u001b[0m",
      "\u001b[1;31mModuleNotFoundError\u001b[0m                       Traceback (most recent call last)",
      "Cell \u001b[1;32mIn[2], line 1\u001b[0m\n\u001b[1;32m----> 1\u001b[0m \u001b[38;5;28;01mfrom\u001b[39;00m \u001b[38;5;21;01msdv\u001b[39;00m\u001b[38;5;21;01m.\u001b[39;00m\u001b[38;5;21;01mtabular\u001b[39;00m \u001b[38;5;28;01mimport\u001b[39;00m GaussianCopula\n\u001b[0;32m      2\u001b[0m \u001b[38;5;28;01mimport\u001b[39;00m \u001b[38;5;21;01mpandas\u001b[39;00m \u001b[38;5;28;01mas\u001b[39;00m \u001b[38;5;21;01mpd\u001b[39;00m\n\u001b[0;32m      4\u001b[0m \u001b[38;5;66;03m# Crear un DataFrame de pandas con datos de ejemplo\u001b[39;00m\n",
      "\u001b[1;31mModuleNotFoundError\u001b[0m: No module named 'sdv'"
     ]
    }
   ],
   "source": [
    "from sdv.tabular import GaussianCopula\n",
    "import pandas as pd\n",
    "\n",
    "# Crear un DataFrame de pandas con datos de ejemplo\n",
    "data = pd.DataFrame({\n",
    "    'column1': [1, 2, 3, 4, 5],\n",
    "    'column2': ['a', 'b', 'c', 'd', 'e'],\n",
    "})\n",
    "\n",
    "# Crear y ajustar el modelo GaussianCopula\n",
    "model = GaussianCopula()\n",
    "model.fit(data)\n",
    "\n",
    "# Generar datos sintéticos\n",
    "synthetic_data = model.sample(1000)\n",
    "\n",
    "print(synthetic_data.head())"
   ]
  },
  {
   "cell_type": "code",
   "execution_count": null,
   "id": "2e1eff8f-f672-4d6e-a0fe-aff7a79f5884",
   "metadata": {},
   "outputs": [],
   "source": [
    "from gretel_synthetics.config import TensorFlowConfig\n",
    "from gretel_synthetics.train import train_rnn\n",
    "\n",
    "# Configurar y entrenar el modelo\n",
    "config = TensorFlowConfig(input_data_path='path_to_your_text_file.txt')\n",
    "model = train_rnn(config)\n",
    "\n",
    "# Generar datos sintéticos\n",
    "synthetic_data = model.generate(num_lines=1000)\n",
    "\n",
    "print('\\n'.join(synthetic_data))"
   ]
  },
  {
   "cell_type": "code",
   "execution_count": null,
   "id": "f2ba5734-b391-4c35-8b85-b80a7ec0adb6",
   "metadata": {},
   "outputs": [],
   "source": [
    "from nbsynthetic.synthesis import synthesize\n",
    "\n",
    "# Sintetizar un notebook\n",
    "synthetic_nb = synthesize('path_to_your_notebook.ipynb')\n",
    "\n",
    "print(synthetic_nb)\n"
   ]
  },
  {
   "cell_type": "code",
   "execution_count": null,
   "id": "b4a7d03b-df44-4c28-a194-9c7318a46741",
   "metadata": {},
   "outputs": [],
   "source": [
    "from synthcity import City\n",
    "\n",
    "# Crear una ciudad sintética\n",
    "city = City(size=1000)\n",
    "\n",
    "# Generar datos sintéticos\n",
    "synthetic_data = city.generate()\n",
    "\n",
    "print(synthetic_data.head())\n"
   ]
  },
  {
   "cell_type": "code",
   "execution_count": 3,
   "id": "1adf1fcc-2c71-435f-8101-ec5b514f3390",
   "metadata": {},
   "outputs": [
    {
     "ename": "ModuleNotFoundError",
     "evalue": "No module named 'sdv'",
     "output_type": "error",
     "traceback": [
      "\u001b[1;31m---------------------------------------------------------------------------\u001b[0m",
      "\u001b[1;31mModuleNotFoundError\u001b[0m                       Traceback (most recent call last)",
      "Cell \u001b[1;32mIn[3], line 1\u001b[0m\n\u001b[1;32m----> 1\u001b[0m \u001b[38;5;28;01mfrom\u001b[39;00m \u001b[38;5;21;01msdv\u001b[39;00m\u001b[38;5;21;01m.\u001b[39;00m\u001b[38;5;21;01mtabular\u001b[39;00m \u001b[38;5;28;01mimport\u001b[39;00m GaussianCopula\n\u001b[0;32m      2\u001b[0m \u001b[38;5;28;01mimport\u001b[39;00m \u001b[38;5;21;01mpandas\u001b[39;00m \u001b[38;5;28;01mas\u001b[39;00m \u001b[38;5;21;01mpd\u001b[39;00m\n\u001b[0;32m      3\u001b[0m \u001b[38;5;28;01mimport\u001b[39;00m \u001b[38;5;21;01mmatplotlib\u001b[39;00m\u001b[38;5;21;01m.\u001b[39;00m\u001b[38;5;21;01mpyplot\u001b[39;00m \u001b[38;5;28;01mas\u001b[39;00m \u001b[38;5;21;01mplt\u001b[39;00m\n",
      "\u001b[1;31mModuleNotFoundError\u001b[0m: No module named 'sdv'"
     ]
    }
   ],
   "source": [
    "from sdv.tabular import GaussianCopula\n",
    "import pandas as pd\n",
    "import matplotlib.pyplot as plt\n",
    "import seaborn as sns\n",
    "\n",
    "# Crear un DataFrame de pandas con datos de ejemplo\n",
    "data = pd.DataFrame({\n",
    "    'column1': [1, 2, 3, 4, 5],\n",
    "    'column2': ['a', 'b', 'c', 'd', 'e'],\n",
    "})\n",
    "\n",
    "# Crear y ajustar el modelo GaussianCopula\n",
    "model = GaussianCopula()\n",
    "model.fit(data)\n",
    "\n",
    "# Generar datos sintéticos\n",
    "synthetic_data = model.sample(1000)\n",
    "\n",
    "# Comparar las distribuciones de los datos reales y sintéticos\n",
    "for column in data.columns:\n",
    "    plt.figure(figsize=(6, 4))\n",
    "    sns.kdeplot(data[column], label='Real')\n",
    "    sns.kdeplot(synthetic_data[column], label='Synthetic')\n",
    "    plt.title(f'Distribución de {column}')\n",
    "    plt.legend()\n",
    "    plt.show()\n"
   ]
  },
  {
   "cell_type": "code",
   "execution_count": 4,
   "id": "f3a22256-48ea-4cbd-b9f1-8e5230166ccd",
   "metadata": {},
   "outputs": [
    {
     "ename": "ModuleNotFoundError",
     "evalue": "No module named 'gretel_synthetics'",
     "output_type": "error",
     "traceback": [
      "\u001b[1;31m---------------------------------------------------------------------------\u001b[0m",
      "\u001b[1;31mModuleNotFoundError\u001b[0m                       Traceback (most recent call last)",
      "Cell \u001b[1;32mIn[4], line 1\u001b[0m\n\u001b[1;32m----> 1\u001b[0m \u001b[38;5;28;01mfrom\u001b[39;00m \u001b[38;5;21;01mgretel_synthetics\u001b[39;00m\u001b[38;5;21;01m.\u001b[39;00m\u001b[38;5;21;01mconfig\u001b[39;00m \u001b[38;5;28;01mimport\u001b[39;00m TensorFlowConfig\n\u001b[0;32m      2\u001b[0m \u001b[38;5;28;01mfrom\u001b[39;00m \u001b[38;5;21;01mgretel_synthetics\u001b[39;00m\u001b[38;5;21;01m.\u001b[39;00m\u001b[38;5;21;01mtrain\u001b[39;00m \u001b[38;5;28;01mimport\u001b[39;00m train_rnn\n\u001b[0;32m      3\u001b[0m \u001b[38;5;28;01mfrom\u001b[39;00m \u001b[38;5;21;01mcollections\u001b[39;00m \u001b[38;5;28;01mimport\u001b[39;00m Counter\n",
      "\u001b[1;31mModuleNotFoundError\u001b[0m: No module named 'gretel_synthetics'"
     ]
    }
   ],
   "source": [
    "from gretel_synthetics.config import TensorFlowConfig\n",
    "from gretel_synthetics.train import train_rnn\n",
    "from collections import Counter\n",
    "import matplotlib.pyplot as plt\n",
    "\n",
    "# Configurar y entrenar el modelo\n",
    "config = TensorFlowConfig(input_data_path='path_to_your_text_file.txt')\n",
    "model = train_rnn(config)\n",
    "\n",
    "# Generar datos sintéticos\n",
    "synthetic_data = model.generate(num_lines=1000)\n",
    "\n",
    "# Contar la frecuencia de cada palabra en los datos sintéticos\n",
    "word_counts = Counter(' '.join(synthetic_data).split())\n",
    "\n",
    "# Crear un gráfico de barras de las 10 palabras más comunes\n",
    "most_common_words = word_counts.most_common(10)\n",
    "words, counts = zip(*most_common_words)\n",
    "plt.bar(words, counts)\n",
    "plt.title('10 palabras más comunes en los datos sintéticos')\n",
    "plt.xlabel('Palabra')\n",
    "plt.ylabel('Frecuencia')\n",
    "plt.show()\n"
   ]
  },
  {
   "cell_type": "code",
   "execution_count": 5,
   "id": "f086cc3b-5a8d-4cc3-859b-5d4e65d3048b",
   "metadata": {},
   "outputs": [
    {
     "ename": "ModuleNotFoundError",
     "evalue": "No module named 'nbsynthetic'",
     "output_type": "error",
     "traceback": [
      "\u001b[1;31m---------------------------------------------------------------------------\u001b[0m",
      "\u001b[1;31mModuleNotFoundError\u001b[0m                       Traceback (most recent call last)",
      "Cell \u001b[1;32mIn[5], line 1\u001b[0m\n\u001b[1;32m----> 1\u001b[0m \u001b[38;5;28;01mfrom\u001b[39;00m \u001b[38;5;21;01mnbsynthetic\u001b[39;00m\u001b[38;5;21;01m.\u001b[39;00m\u001b[38;5;21;01msynthesis\u001b[39;00m \u001b[38;5;28;01mimport\u001b[39;00m synthesize\n\u001b[0;32m      2\u001b[0m \u001b[38;5;28;01mimport\u001b[39;00m \u001b[38;5;21;01mnbformat\u001b[39;00m\n\u001b[0;32m      4\u001b[0m \u001b[38;5;66;03m# Sintetizar un notebook\u001b[39;00m\n",
      "\u001b[1;31mModuleNotFoundError\u001b[0m: No module named 'nbsynthetic'"
     ]
    }
   ],
   "source": [
    "from nbsynthetic.synthesis import synthesize\n",
    "import nbformat\n",
    "\n",
    "# Sintetizar un notebook\n",
    "synthetic_nb = synthesize('path_to_your_notebook.ipynb')\n",
    "\n",
    "# Convertir el notebook sintético a un objeto nbformat\n",
    "nb = nbformat.reads(synthetic_nb, as_version=4)\n",
    "\n",
    "# Contar el número de cada tipo de celda en el notebook sintético\n",
    "cell_counts = Counter(cell['cell_type'] for cell in nb['cells'])\n",
    "\n",
    "# Crear un gráfico de barras de los tipos de celdas\n",
    "plt.bar(cell_counts.keys(), cell_counts.values())\n",
    "plt.title('Tipos de celdas en el notebook sintético')\n",
    "plt.xlabel('Tipo de celda')\n",
    "plt.ylabel('Frecuencia')\n",
    "plt.show()"
   ]
  },
  {
   "cell_type": "code",
   "execution_count": 6,
   "id": "7ce8666b-6a43-4756-9492-b696bdc67dac",
   "metadata": {},
   "outputs": [
    {
     "ename": "ModuleNotFoundError",
     "evalue": "No module named 'synthcity'",
     "output_type": "error",
     "traceback": [
      "\u001b[1;31m---------------------------------------------------------------------------\u001b[0m",
      "\u001b[1;31mModuleNotFoundError\u001b[0m                       Traceback (most recent call last)",
      "Cell \u001b[1;32mIn[6], line 1\u001b[0m\n\u001b[1;32m----> 1\u001b[0m \u001b[38;5;28;01mfrom\u001b[39;00m \u001b[38;5;21;01msynthcity\u001b[39;00m \u001b[38;5;28;01mimport\u001b[39;00m City\n\u001b[0;32m      2\u001b[0m \u001b[38;5;28;01mimport\u001b[39;00m \u001b[38;5;21;01mmatplotlib\u001b[39;00m\u001b[38;5;21;01m.\u001b[39;00m\u001b[38;5;21;01mpyplot\u001b[39;00m \u001b[38;5;28;01mas\u001b[39;00m \u001b[38;5;21;01mplt\u001b[39;00m\n\u001b[0;32m      4\u001b[0m \u001b[38;5;66;03m# Crear una ciudad sintética\u001b[39;00m\n",
      "\u001b[1;31mModuleNotFoundError\u001b[0m: No module named 'synthcity'"
     ]
    }
   ],
   "source": [
    "from synthcity import City\n",
    "import matplotlib.pyplot as plt\n",
    "\n",
    "# Crear una ciudad sintética\n",
    "city = City(size=1000)\n",
    "\n",
    "# Generar datos sintéticos\n",
    "synthetic_data = city.generate()\n",
    "\n",
    "# Crear un gráfico de dispersión de las coordenadas de los edificios\n",
    "plt.scatter(synthetic_data['x'], synthetic_data['y'])\n",
    "plt.title('Ubicaciones de los edificios en la ciudad sintética')\n",
    "plt.xlabel('Coordenada x')\n",
    "plt.ylabel('Coordenada y')\n",
    "plt.show()\n"
   ]
  },
  {
   "cell_type": "markdown",
   "id": "2ca384b2-cfde-46e5-814d-7e24405a3dd0",
   "metadata": {},
   "source": [
    "###NUEVO"
   ]
  },
  {
   "cell_type": "markdown",
   "id": "367d0543-8ff5-4ca9-9afa-6adb6467fdce",
   "metadata": {},
   "source": [
    "Importar las dependencias\n",
    "\n",
    "Para generar datos sintéticos, primero debemos importar los requisitos previos. En este caso, debemos importar librerías y módulos como NumPy, Pandas, Matplotlib.pyplot y Make_classification desde Scikit-learn."
   ]
  },
  {
   "cell_type": "code",
   "execution_count": 1,
   "id": "5eb986bb-e95e-4a14-87a8-322de49d659c",
   "metadata": {},
   "outputs": [],
   "source": [
    "import numpy as np\n",
    "import pandas as pd\n",
    "from sklearn.datasets import make_classification\n",
    "import matplotlib.pyplot as plt\n",
    "from matplotlib import rcParams\n",
    "step=6"
   ]
  },
  {
   "cell_type": "markdown",
   "id": "e6bfcc1a-446b-471b-b368-14c456b26e27",
   "metadata": {},
   "source": [
    "En el fragmento de código anterior, la línea \"step=6\" es una variable a la que se le asigna un valor de 6. Sirve como variable de control para determinar qué pasos o secciones del código se van a ejecutar.\n",
    "\n",
    "Asignar características específicas a conjuntos de datos\n",
    "\n",
    "Ejecute el siguiente código para modificar algunos parámetros específicos del objeto de diccionario 'rcParams', a saber, 'axes.spines.top' y 'axes.spines.right'."
   ]
  },
  {
   "cell_type": "code",
   "execution_count": 2,
   "id": "52a0acd9-fdc4-401c-8768-0ad7d49b8717",
   "metadata": {},
   "outputs": [],
   "source": [
    "rcParams['axes.spines.top'] = False\n",
    "rcParams['axes.spines.right'] = False"
   ]
  },
  {
   "cell_type": "markdown",
   "id": "b4e4bb99-5760-4a2b-b234-f08de6366ee3",
   "metadata": {},
   "source": [
    "A continuación, genere un conjunto de datos de clasificación sintética utilizando la función 'make_classification' de la biblioteca scikit-learn y asigne valores a cada necesidad de datos, como el número de muestras y características."
   ]
  },
  {
   "cell_type": "code",
   "execution_count": 3,
   "id": "447c036b-17b0-4d21-9cc2-bfe2c0eb4923",
   "metadata": {},
   "outputs": [],
   "source": [
    "X, y = make_classification(\n",
    "n_samples=1000,\n",
    "n_features=2,\n",
    "n_redundant=0,\n",
    "n_clusters_per_class=1,\n",
    "random_state=42,\n",
    "weights=[0.50]\n",
    ")"
   ]
  },
  {
   "cell_type": "markdown",
   "id": "062ef1dd-f728-4770-aed1-e98f8e528df4",
   "metadata": {},
   "source": [
    "Manipular los datos\n",
    "\n",
    "Aquí, necesitamos concatenar la matriz de características X y la matriz de etiquetas y en un DataFrame df, asignar nombres de columna apropiados e imprimir una muestra de filas aleatorias del DataFrame si el valor de step es igual a 1. Esto es beneficioso para inspeccionar los datos y comprender su estructura."
   ]
  },
  {
   "cell_type": "code",
   "execution_count": 6,
   "id": "7e2b216b-804e-4f8e-9ae7-c73b12df16f3",
   "metadata": {},
   "outputs": [],
   "source": [
    "df = pd.concat([pd.DataFrame(X), pd.Series(y)], axis=1)\n",
    "df.columns = ['x1', 'x2', 'y']\n",
    "if (step==1):\n",
    "    print(df.sample(10))"
   ]
  },
  {
   "cell_type": "markdown",
   "id": "d59c2576-8863-4ea5-bf5d-e3b87a0d3837",
   "metadata": {},
   "source": [
    "Visualizar el conjunto de datos\n",
    "\n",
    "Defina una función reutilizable, 'plot' para crear un scatterlot y visualizar un conjunto de datos con dos clases."
   ]
  },
  {
   "cell_type": "code",
   "execution_count": 11,
   "id": "2f2b5d68-fb13-4b12-888b-98206f0a9412",
   "metadata": {},
   "outputs": [],
   "source": [
    "def plot(df: pd.DataFrame, x1: str, x2: str, y: str, title: str = '', save: bool = False, figname='figure.png'):\n",
    "    plt.figure(figsize=(14, 7))\n",
    "    plt.scatter(x=df[df[y] == 0][x1], y=df[df[y] == 0][x2], label='y = 0')\n",
    "    plt.scatter(x=df[df[y] == 1][x1], y=df[df[y] == 1][x2], label='y = 1')\n",
    "    plt.title(title, fontsize=20)\n",
    "    plt.legend()\n",
    "    if save:\n",
    "        plt.savefig(figname, dpi=300, bbox_inches='tight', pad_inches=0)\n",
    "        plt.show()\n",
    "    if (step==2):\n",
    "        plot(df=df, x1='x1', x2='x2', y='y', title='Dataset with 2 classes')"
   ]
  },
  {
   "cell_type": "markdown",
   "id": "491791e6-d0d9-46f1-b3d0-a9408da62d71",
   "metadata": {},
   "source": [
    "Generar un conjunto de datos de clasificación sintética\n",
    "\n",
    "A continuación, generaremos un conjunto de datos de clasificación sintética utilizando la función 'make_classification' del módulo 'sklearn.datasets'."
   ]
  },
  {
   "cell_type": "code",
   "execution_count": 12,
   "id": "bcba6601-821c-42c0-8af6-49f68509de51",
   "metadata": {},
   "outputs": [],
   "source": [
    "X, y = make_classification(\n",
    "n_samples=1000,\n",
    "n_features=2,\n",
    "n_redundant=0,\n",
    "n_clusters_per_class=1,\n",
    "flip_y=0.25,\n",
    "random_state=42\n",
    ")"
   ]
  },
  {
   "cell_type": "markdown",
   "id": "db381c05-ab18-41ad-893c-7f2aee40d1f9",
   "metadata": {},
   "source": [
    "Los datos sintéticos generados tendrán 1000 muestras y dos características. Está diseñado para imitar un escenario del mundo real con una redundancia mínima y sin agrupaciones significativas dentro de cada clase. Además, se introduce una pequeña cantidad de volteo de etiquetas para crear algo de ruido en el conjunto de datos."
   ]
  },
  {
   "cell_type": "markdown",
   "id": "8246aa5d-caa9-4692-a0f7-06cb843871e2",
   "metadata": {},
   "source": [
    "Creación de un nuevo DataFrame\n",
    "\n",
    "A continuación, cree un nuevo DataFrame 'df' concatenando las matrices de variables de entidad y destino. A continuación, asigne nombres de columna significativos al DataFrame."
   ]
  },
  {
   "cell_type": "code",
   "execution_count": 13,
   "id": "aa5c639f-7905-40d7-ae75-e00a9b4bac8c",
   "metadata": {},
   "outputs": [],
   "source": [
    "df = pd.concat([pd.DataFrame(X), pd.Series(y)], axis=1)\n",
    "df.columns = ['x1', 'x2', 'y']"
   ]
  },
  {
   "cell_type": "markdown",
   "id": "55e774b6-6461-4036-ad60-934b1add65eb",
   "metadata": {},
   "source": [
    "A continuación, debemos analizar visualmente y comprender el impacto del desequilibrio de clases en el conjunto de datos."
   ]
  },
  {
   "cell_type": "code",
   "execution_count": 15,
   "id": "b1798b27-98e6-4e82-823a-e06c9d913e5e",
   "metadata": {},
   "outputs": [],
   "source": [
    "if(step==4):\n",
    "    plot(df=df, x1='x1', x2='x2', y='y', title='Dataset with 2 classes - Class imbalance (weights=0.95)')\n",
    "    X, y = make_classification(\n",
    "    n_samples=1000,\n",
    "    n_features=2,\n",
    "    n_redundant=0,\n",
    "    n_clusters_per_class=1,\n",
    "    weights=[0.05],\n",
    "    random_state=42\n",
    "    )"
   ]
  },
  {
   "cell_type": "markdown",
   "id": "f4034d99-a673-4836-a80e-ba864afd2dcc",
   "metadata": {},
   "source": [
    "En el fragmento de código anterior, si la variable 'step' es igual a 4, llama a la función plot con el conjunto de datos actualizado para generar un gráfico que represente el conjunto de datos con desequilibrio de clase (utilizando un peso de 0,95 para una clase).\n",
    "\n",
    "Reitere el paso de código anterior para generar conjuntos de datos de clasificación sintéticos con diferentes desequilibrios de clase y visualizarlos mediante diagramas de dispersión. Los gráficos ayudan a comprender el impacto del desequilibrio de clases en el conjunto de datos y pueden proporcionar información sobre el problema de clasificación.\n",
    "\n",
    "Puede acceder a todo el conjunto de código desde este repositorio de GitHub.\n",
    "\n",
    "Casos "
   ]
  },
  {
   "cell_type": "markdown",
   "id": "ea3d9517-4270-401b-9f56-3d71301eb347",
   "metadata": {},
   "source": [
    "#CODIGO COMPLETO"
   ]
  },
  {
   "cell_type": "code",
   "execution_count": 16,
   "id": "f9d9a281-bc86-4a4d-af70-9fe6cbe4d547",
   "metadata": {},
   "outputs": [
    {
     "data": {
      "image/png": "[encoded data removed]",
      "text/plain": [
       "<Figure size 1400x700 with 1 Axes>"
      ]
     },
     "metadata": {},
     "output_type": "display_data"
    }
   ],
   "source": [
    "import numpy as np \n",
    "import pandas as pd\n",
    "from sklearn.datasets import make_classification\n",
    "import matplotlib.pyplot as plt\n",
    "from matplotlib import rcParams\n",
    "step=6\n",
    "rcParams['axes.spines.top'] = False\n",
    "rcParams['axes.spines.right'] = False\n",
    "X, y = make_classification(\n",
    "    n_samples=1000, \n",
    "    n_features=2, \n",
    "    n_redundant=0,\n",
    "    n_clusters_per_class=1,\n",
    "    random_state=42,\n",
    "    weights=[0.50]\n",
    ")\n",
    "\n",
    "df = pd.concat([pd.DataFrame(X), pd.Series(y)], axis=1)\n",
    "df.columns = ['x1', 'x2', 'y']\n",
    "# 5 random rows\n",
    "if(step==1):\n",
    "    print(df.sample(10))\n",
    "\n",
    "def plot(df: pd.DataFrame, x1: str, x2: str, y: str, title: str = '', save: bool = False, figname='figure.png'):\n",
    "    plt.figure(figsize=(14, 7))\n",
    "    plt.scatter(x=df[df[y] == 0][x1], y=df[df[y] == 0][x2], label='y = 0')\n",
    "    plt.scatter(x=df[df[y] == 1][x1], y=df[df[y] == 1][x2], label='y = 1')\n",
    "    plt.title(title, fontsize=20)\n",
    "    plt.legend()\n",
    "    if save:\n",
    "        plt.savefig(figname, dpi=300, bbox_inches='tight', pad_inches=0)\n",
    "    plt.show()\n",
    "if(step==2):\n",
    "    plot(df=df, x1='x1', x2='x2', y='y', title='Dataset with 2 classes')\n",
    "\n",
    "X, y = make_classification(\n",
    "    n_samples=1000, \n",
    "    n_features=2, \n",
    "    n_redundant=0,\n",
    "    n_clusters_per_class=1,\n",
    "    flip_y=0.25,\n",
    "    random_state=42\n",
    ")\n",
    "\n",
    "df = pd.concat([pd.DataFrame(X), pd.Series(y)], axis=1)\n",
    "df.columns = ['x1', 'x2', 'y']\n",
    "\n",
    "if(step==3):\n",
    "    plot(df=df, x1='x1', x2='x2', y='y', title='Dataset with 2 classes - Added noise')\n",
    "X, y = make_classification(\n",
    "    n_samples=1000, \n",
    "    n_features=2, \n",
    "    n_redundant=0,\n",
    "    n_clusters_per_class=1,\n",
    "    weights=[0.95],\n",
    "    random_state=42\n",
    ")\n",
    "\n",
    "df = pd.concat([pd.DataFrame(X), pd.Series(y)], axis=1)\n",
    "df.columns = ['x1', 'x2', 'y']\n",
    "\n",
    "if(step==4):\n",
    "    plot(df=df, x1='x1', x2='x2', y='y', title='Dataset with 2 classes - Class imbalance (weights=0.95)')\n",
    "X, y = make_classification(\n",
    "    n_samples=1000, \n",
    "    n_features=2, \n",
    "    n_redundant=0,\n",
    "    n_clusters_per_class=1,\n",
    "    weights=[0.05],\n",
    "    random_state=42\n",
    ")\n",
    "\n",
    "df = pd.concat([pd.DataFrame(X), pd.Series(y)], axis=1)\n",
    "df.columns = ['x1', 'x2', 'y']\n",
    "\n",
    "if(step==5):\n",
    "    plot(df=df, x1='x1', x2='x2', y='y', title='Dataset with 2 classes - Class imbalance (weights=0.05)')\n",
    "X, y = make_classification(\n",
    "    n_samples=1000, \n",
    "    n_features=2, \n",
    "    n_redundant=0,\n",
    "    n_clusters_per_class=1,\n",
    "    class_sep=5,\n",
    "    random_state=42\n",
    ")\n",
    "\n",
    "df = pd.concat([pd.DataFrame(X), pd.Series(y)], axis=1)\n",
    "df.columns = ['x1', 'x2', 'y']\n",
    "\n",
    "if(step==6):\n",
    "    plot(df=df, x1='x1', x2='x2', y='y', title='Dataset with 2 classes - Make classification easier')\n"
   ]
  },
  {
   "cell_type": "code",
   "execution_count": null,
   "id": "8e0fa400-f0fc-4e8d-8aa2-0790741d944d",
   "metadata": {},
   "outputs": [],
   "source": []
  }
 ],
 "metadata": {
  "kernelspec": {
   "display_name": "Python 3 (ipykernel)",
   "language": "python",
   "name": "python3"
  },
  "language_info": {
   "codemirror_mode": {
    "name": "ipython",
    "version": 3
   },
   "file_extension": ".py",
   "mimetype": "text/x-python",
   "name": "python",
   "nbconvert_exporter": "python",
   "pygments_lexer": "ipython3",
   "version": "3.12.1"
  }
 },
 "nbformat": 4,
 "nbformat_minor": 5
}
